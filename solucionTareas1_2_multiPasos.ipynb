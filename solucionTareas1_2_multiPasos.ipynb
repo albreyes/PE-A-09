{
  "nbformat": 4,
  "nbformat_minor": 0,
  "metadata": {
    "colab": {
      "name": "solucionTareas1_2_multiPasos.ipynb",
      "provenance": [],
      "authorship_tag": "ABX9TyPl4C4J/UA1qEnt2RbWsMsx",
      "include_colab_link": true
    },
    "kernelspec": {
      "name": "python3",
      "display_name": "Python 3"
    }
  },
  "cells": [
    {
      "cell_type": "markdown",
      "metadata": {
        "id": "view-in-github",
        "colab_type": "text"
      },
      "source": [
        "<a href=\"https://colab.research.google.com/github/albreyes/PE-A-09/blob/main/solucionTareas1_2_multiPasos.ipynb\" target=\"_parent\"><img src=\"https://colab.research.google.com/assets/colab-badge.svg\" alt=\"Open In Colab\"/></a>"
      ]
    },
    {
      "cell_type": "markdown",
      "metadata": {
        "id": "DspPjpsEN1yt"
      },
      "source": [
        "\n",
        "# Pronóstico univariado a multiples pasos usando LSTM "
      ]
    },
    {
      "cell_type": "markdown",
      "metadata": {
        "id": "eikJcjYTOHLD"
      },
      "source": [
        "En este ejercicio aprenderemos a utilizar python para crear un modelo de pronóstico para una serie de datos de demanda eléctrica anual. La entrada será una serie de tres pasos. El pronóstico tendrá dos pasos en adelanto y los resultados se presentarán paso por paso. El paso de tiempo (timestep) tanto en la entrada como en la salida será de un año. Como técnica de aprendizaje utilizaremos una red LSTM apilada (stacked)\n",
        "\n"
      ]
    },
    {
      "cell_type": "markdown",
      "metadata": {
        "id": "1o0v267lRM8c"
      },
      "source": [
        "## Preparación de los datos"
      ]
    },
    {
      "cell_type": "markdown",
      "metadata": {
        "id": "ThBMkA0qRAz8"
      },
      "source": [
        "Antes de pasar a la construcción del modelo se deben preparar los datos. Al igual que con el pronóstico de un paso, una serie de tiempo utilizada para el pronóstico de series de varios pasos debe dividirse en muestras con componentes de entrada y salida.\n",
        "\n",
        "Tanto los componentes de entrada como los de salida estarán compuestos por múltiples pasos de tiempo y pueden tener o no el mismo número de pasos.\n",
        "\n",
        "Por ejemplo, dada la serie de tiempo univariada:"
      ]
    },
    {
      "cell_type": "markdown",
      "metadata": {
        "id": "Li6f9313TonV"
      },
      "source": [
        "\\\\begin{matrix}[10 & 20 & 30 & 40 & 50 & 60 & 70 & 80 & 90 ]\\\\\\end{matrix}"
      ]
    },
    {
      "cell_type": "markdown",
      "metadata": {
        "id": "vbHVQls2W4bt"
      },
      "source": [
        "Podríamos usar los últimos tres pasos de tiempo como entrada y pronosticar los dos próximos pasos de tiempo.\n",
        "\n",
        "La primera muestra se vería de la siguiente manera:\n",
        "\n",
        "Entrada:\n",
        "\n",
        "\\\\begin{matrix}[10 & 20 & 30 ]\\\\\\end{matrix}"
      ]
    },
    {
      "cell_type": "markdown",
      "metadata": {
        "id": "XFxPfLwLXRZ0"
      },
      "source": [
        "Salida:\n",
        "\n",
        "\n",
        "\\\\begin{matrix}[40 & 50 ]\\\\\\end{matrix}"
      ]
    },
    {
      "cell_type": "markdown",
      "metadata": {
        "id": "6lsNQHrKXyJ1"
      },
      "source": [
        "La función split_sequence() siguiente implementa este comportamiento dividiendo una serie de tiempo univariada en muestras con un número específico de pasos de tiempo de entrada y salida."
      ]
    },
    {
      "cell_type": "code",
      "metadata": {
        "id": "5mRFpARucg8o"
      },
      "source": [
        "# univariate multi-step vector-output stacked lstm example\n",
        "from numpy import array\n",
        "from keras.models import Sequential\n",
        "from keras.layers import LSTM\n",
        "from keras.layers import Dense\n",
        "\n",
        "# split a univariate sequence into samples\n",
        "def split_sequence(sequence, n_steps_in, n_steps_out):\n",
        "\tX, y = list(), list()\n",
        "\tfor i in range(len(sequence)):\n",
        "\t\t# find the end of this pattern\n",
        "\t\tend_ix = i + n_steps_in\n",
        "\t\tout_end_ix = end_ix + n_steps_out\n",
        "\t\t# check if we are beyond the sequence\n",
        "\t\tif out_end_ix > len(sequence):\n",
        "\t\t\tbreak\n",
        "\t\t# gather input and output parts of the pattern\n",
        "\t\tseq_x, seq_y = sequence[i:end_ix], sequence[end_ix:out_end_ix]\n",
        "\t\tX.append(seq_x)\n",
        "\t\ty.append(seq_y)\n",
        "\treturn array(X), array(y)"
      ],
      "execution_count": 76,
      "outputs": []
    },
    {
      "cell_type": "markdown",
      "metadata": {
        "id": "IQe6GMmKYnu1"
      },
      "source": [
        "Podemos demostrar esta función con el conjunto de datos de ejemplo."
      ]
    },
    {
      "cell_type": "code",
      "metadata": {
        "colab": {
          "base_uri": "https://localhost:8080/"
        },
        "id": "Vzng6yPGYviO",
        "outputId": "c7a2e2cb-7287-4601-9125-09cf0df3bfce"
      },
      "source": [
        "# definimos secuancia de entrada \n",
        "raw_seq = [10, 20, 30, 40, 50, 60, 70, 80, 90]\n",
        "# escogemos un número de pasos de entrada y salida \n",
        "n_steps_in, n_steps_out = 3, 2\n",
        "# dividimos en ejemplos X , y\n",
        "X, y = split_sequence(raw_seq, n_steps_in, n_steps_out)\n",
        "# visualizamos los resultados\n",
        "for i in range(len(X)):\n",
        "\tprint(X[i], y[i])"
      ],
      "execution_count": 77,
      "outputs": [
        {
          "output_type": "stream",
          "name": "stdout",
          "text": [
            "[10 20 30] [40 50]\n",
            "[20 30 40] [50 60]\n",
            "[30 40 50] [60 70]\n",
            "[40 50 60] [70 80]\n",
            "[50 60 70] [80 90]\n"
          ]
        }
      ]
    },
    {
      "cell_type": "markdown",
      "metadata": {
        "id": "2u0jn2vUZ7Rd"
      },
      "source": [
        "La ejecución del ejemplo divide la serie univariada  en pasos de tiempo de entrada y salida e imprime los componentes de entrada y salida de cada uno."
      ]
    },
    {
      "cell_type": "markdown",
      "metadata": {
        "id": "v9TwVGLcc3u2"
      },
      "source": [
        "Ahora que sabemos cómo preparar datos para el pronóstico de varios pasos, veamos como construir una red LSTM tipo output vector model.\n",
        "\n",
        "Al igual que otros tipos de modelos de redes neuronales, el LSTM puede generar un vector directamente que se puede interpretar como un pronóstico de varios pasos.\n",
        "\n",
        "Al igual que con los LSTM para datos univariados de la sección anterior, primero se deben remodelar (reshape) las muestras preparadas. El LSTM espera que los datos tengan una estructura tridimensional de la forma: [***muestras, intervalos de tiempo, características***] y, como en este caso solo tenemos una característica,  la remodelación es muy sencilla. Veamos como cambia el formato para el conjunto de entradas:"
      ]
    },
    {
      "cell_type": "code",
      "metadata": {
        "colab": {
          "base_uri": "https://localhost:8080/"
        },
        "id": "mkydBOSMes0O",
        "outputId": "6078119d-4a73-42a9-ddf4-0c675abd078e"
      },
      "source": [
        "print('Antes',X)\n",
        "# remodela de [muestras, timesteps] a [muestras, timesteps, características]\n",
        "n_features = 1\n",
        "X = X.reshape((X.shape[0], X.shape[1], n_features))\n",
        "print('Después',X)"
      ],
      "execution_count": 78,
      "outputs": [
        {
          "output_type": "stream",
          "name": "stdout",
          "text": [
            "Antes [[10 20 30]\n",
            " [20 30 40]\n",
            " [30 40 50]\n",
            " [40 50 60]\n",
            " [50 60 70]]\n",
            "Después [[[10]\n",
            "  [20]\n",
            "  [30]]\n",
            "\n",
            " [[20]\n",
            "  [30]\n",
            "  [40]]\n",
            "\n",
            " [[30]\n",
            "  [40]\n",
            "  [50]]\n",
            "\n",
            " [[40]\n",
            "  [50]\n",
            "  [60]]\n",
            "\n",
            " [[50]\n",
            "  [60]\n",
            "  [70]]]\n"
          ]
        }
      ]
    },
    {
      "cell_type": "markdown",
      "metadata": {
        "id": "AjtjBZYEf-gF"
      },
      "source": [
        "#Solución tarea 1\n",
        "\n",
        "1. Preparar los datos en forma de una serie de tiempo univariada y guardarla en drive.\n",
        "\n",
        "Usemos el conjunto de datos de demanda máxima mensual de temporada de invierno en una SE de CFE con datos promedio anual durante 8 inviernos (archivo:  datosSE-CFE.xlsx).\n",
        "\n",
        "Arreglar los datos de invierno en una sola columna DMM, guardarla en formato cvs con otro nombre, por ejemplo datosSE-CFE-invierno-TS.csv y subirla al directorio \"../Colab Notebooks\" de su unidad en google drive.\n",
        "\n",
        "2.\tCargar los datos desde drive.\n",
        "\n",
        "Para esto, montar la unidad en drive y guardar los datos en la variable raw_seq."
      ]
    },
    {
      "cell_type": "code",
      "metadata": {
        "colab": {
          "base_uri": "https://localhost:8080/"
        },
        "id": "tnq3lMoMGVTQ",
        "outputId": "38484b24-85e8-4f4b-f28a-fb8d2e17b185"
      },
      "source": [
        "# montamos la unidad de drive en colab\n",
        "from google.colab import drive\n",
        "drive.mount('/content/gdrive')"
      ],
      "execution_count": 79,
      "outputs": [
        {
          "output_type": "stream",
          "name": "stdout",
          "text": [
            "Drive already mounted at /content/gdrive; to attempt to forcibly remount, call drive.mount(\"/content/gdrive\", force_remount=True).\n"
          ]
        }
      ]
    },
    {
      "cell_type": "code",
      "metadata": {
        "colab": {
          "base_uri": "https://localhost:8080/"
        },
        "id": "lG2a1g57FAQX",
        "outputId": "906cbaac-bdb6-4cd6-bb97-260f23946e9a"
      },
      "source": [
        "import csv\n",
        "import numpy as np\n",
        "\n",
        "# el archivo resultante en formato csv se renombro como datosSE-CFE-invierno-TS.csv.\n",
        "data_path= 'gdrive/My Drive/Colab Notebooks/datosSE-CFE-invierno-TS.csv'\n",
        "\n",
        "with open(data_path, 'r') as f:\n",
        "    reader = csv.reader(f, delimiter=',')\n",
        "    headers = next(reader)\n",
        "    raw_seq = np.array(list(reader)).astype(float)\n",
        "    raw_seq = [row[0] for row in raw_seq]\n",
        "\n",
        "print(raw_seq)"
      ],
      "execution_count": 80,
      "outputs": [
        {
          "output_type": "stream",
          "name": "stdout",
          "text": [
            "[6.25, 6.25, 6.25, 7.93, 7.94, 6.66, 6.93, 6.69, 8.04, 15.41, 9.23, 9.09, 11.7, 9.8, 10.11, 13.4, 11.72, 10.86, 11.06, 10.93, 11.62, 17.32, 14.56, 11.64, 11.64, 12.04, 14.28, 17.64, 16.88, 14.16, 13.4, 13.92, 15.64, 20.64, 23.04, 23.04, 21.48, 20.88, 21.36, 24.36, 20.04, 17.52, 14.88, 16.2, 20.8, 24.72, 20.3, 18.0]\n"
          ]
        }
      ]
    },
    {
      "cell_type": "markdown",
      "metadata": {
        "id": "2MS4pxTUaOnx"
      },
      "source": [
        "3.\tVisualizar los datos de demanda máxima mensual (DMM) de toda la serie univariada.\n",
        "\n",
        "Usar la función plot de la librería matplotlib para visualizr los datos de la serie de tiempo."
      ]
    },
    {
      "cell_type": "code",
      "metadata": {
        "colab": {
          "base_uri": "https://localhost:8080/",
          "height": 313
        },
        "id": "8x5oBx5EE3q_",
        "outputId": "1f9b02c1-fe15-4b79-c2c3-c7c8892f40f5"
      },
      "source": [
        "import matplotlib.pyplot as plt\n",
        "\n",
        "plt.title('Demanda eléctrica ')\n",
        "plt.plot(raw_seq)\n",
        "plt.xlabel('mes de registro')\n",
        "plt.ylabel('Demanda máxima mensual (MW)')"
      ],
      "execution_count": 81,
      "outputs": [
        {
          "output_type": "execute_result",
          "data": {
            "text/plain": [
              "Text(0, 0.5, 'Demanda máxima mensual (MW)')"
            ]
          },
          "metadata": {},
          "execution_count": 81
        },
        {
          "output_type": "display_data",
          "data": {
            "image/png": "[encoded data removed]",
            "text/plain": [
              "<Figure size 432x288 with 1 Axes>"
            ]
          },
          "metadata": {
            "needs_background": "light"
          }
        }
      ]
    },
    {
      "cell_type": "markdown",
      "metadata": {
        "id": "72Qh9A89ikZ-"
      },
      "source": [
        "# Solución Tarea 2\n",
        "\n",
        "1.\tConstruir un modelo LSTM para pronosticar 2 meses en adelanto en pasos de un mes dada una secuencia de 3 observaciones de entrada.\n",
        "\n",
        "Con el número de pasos de entrada y salida especificados en las variables *n_steps_in* y *n_steps_out*, podemos definir un modelo de pronóstico de series de tiempo de dos pasos dada una secuencia de tres observaciones.\n",
        "\n",
        "Se puede utilizar cuaquier topolgía de modelo LSTM, como Vanilla, Stacked, Bidirectional, CNN-LSTM o ConvLSTM. A continuación se define un LSTM apilado (stacked) para el pronóstico a  dos pasos (2 meses).\n",
        "\n",
        "En cada celda LSTM se define su tipo de activación, optimizador y función de pérdida (generalmente MSE) para cáculo del error."
      ]
    },
    {
      "cell_type": "code",
      "metadata": {
        "colab": {
          "base_uri": "https://localhost:8080/"
        },
        "id": "pZ3C7uuGEyQK",
        "outputId": "d1afe344-887e-4090-e591-e50db17d4f6d"
      },
      "source": [
        "# escoger el número de pasos de timpo (time steps)\n",
        "n_steps_in, n_steps_out = 3,2\n",
        "# separar en muestras (preparación)\n",
        "X, y = split_sequence(raw_seq, n_steps_in, n_steps_out)\n",
        "# remodelación del formato [muestras, timesteps] a [muestras, timesteps, características]\n",
        "n_features = 1\n",
        "X = X.reshape((X.shape[0], X.shape[1], n_features))\n",
        "# definición del modelo LSTM apilado\n",
        "model = Sequential()\n",
        "model.add(LSTM(100, activation='relu', return_sequences=True, input_shape=(n_steps_in, n_features)))\n",
        "model.add(LSTM(100, activation='relu'))\n",
        "model.add(Dense(n_steps_out))\n",
        "model.compile(optimizer='adam', loss='mse')\n",
        "# fit model\n",
        "model.fit(X, y, epochs=1050, verbose=0)\n"
      ],
      "execution_count": 82,
      "outputs": [
        {
          "output_type": "execute_result",
          "data": {
            "text/plain": [
              "<keras.callbacks.History at 0x7f43d9a4b490>"
            ]
          },
          "metadata": {},
          "execution_count": 82
        }
      ]
    },
    {
      "cell_type": "markdown",
      "metadata": {
        "id": "A5y4P3oAk-k-"
      },
      "source": [
        "Mostramos en forma de tabla y con una imágen información de la red LSTM construida (modelo)."
      ]
    },
    {
      "cell_type": "code",
      "metadata": {
        "colab": {
          "base_uri": "https://localhost:8080/"
        },
        "id": "FUFFvUuPgBqz",
        "outputId": "e6716ddb-fd10-4e39-dcc8-812041058bdf"
      },
      "source": [
        "model.summary()"
      ],
      "execution_count": 83,
      "outputs": [
        {
          "output_type": "stream",
          "name": "stdout",
          "text": [
            "Model: \"sequential_6\"\n",
            "_________________________________________________________________\n",
            "Layer (type)                 Output Shape              Param #   \n",
            "=================================================================\n",
            "lstm_12 (LSTM)               (None, 3, 100)            40800     \n",
            "_________________________________________________________________\n",
            "lstm_13 (LSTM)               (None, 100)               80400     \n",
            "_________________________________________________________________\n",
            "dense_6 (Dense)              (None, 2)                 202       \n",
            "=================================================================\n",
            "Total params: 121,402\n",
            "Trainable params: 121,402\n",
            "Non-trainable params: 0\n",
            "_________________________________________________________________\n"
          ]
        }
      ]
    },
    {
      "cell_type": "code",
      "metadata": {
        "colab": {
          "base_uri": "https://localhost:8080/",
          "height": 422
        },
        "id": "6ICi89cTgIvS",
        "outputId": "f2efbaa7-e5c9-495f-93b8-ec2b258a2334"
      },
      "source": [
        "from keras.utils.vis_utils import plot_model\n",
        "plot_model(model, to_file='gdrive/My Drive/Colab Notebooks/model_tarea2.png', show_shapes=True, show_layer_names=True)"
      ],
      "execution_count": 84,
      "outputs": [
        {
          "output_type": "execute_result",
          "data": {
            "image/png": "[encoded data removed]",
            "text/plain": [
              "<IPython.core.display.Image object>"
            ]
          },
          "metadata": {},
          "execution_count": 84
        }
      ]
    },
    {
      "cell_type": "markdown",
      "metadata": {
        "id": "q2fLI0A_lNR2"
      },
      "source": [
        "Y hacemos una demostracón de la predicción. Aquí seleccionamos aleatorimanente un vector de entrada, calculamos su pronóstico y lo comparamos con el vector de salida real (conocido). Para facilitar la lectura, graficamos la salida real contra la pronosticada (línea punteada verde)."
      ]
    },
    {
      "cell_type": "code",
      "metadata": {
        "colab": {
          "base_uri": "https://localhost:8080/",
          "height": 368
        },
        "id": "zgmSY5g0UBSx",
        "outputId": "c8526cfe-d8a7-4a41-b8c5-dcd08651e541"
      },
      "source": [
        "# demonstrate prediction\n",
        "l=X.reshape((X.shape[0],X.shape[1]))\n",
        "i_sample = np.random.randint(len(y))   # Tomar un ejemplo aleatorio\n",
        "x_sample = l[i_sample]\n",
        "x_sample = x_sample.reshape((1, n_steps_in, n_features))\n",
        "yhat = model.predict(x_sample, verbose=0)\n",
        "print('secuencia de entrada:',l[i_sample])\n",
        "print('secuencia de salida (predicha):',yhat[0])\n",
        "print('secuencia de salida (real):',y[i_sample])\n",
        "\n",
        "trama_real=np.append(l[i_sample],y[i_sample])\n",
        "trama_predicha=np.append(l[i_sample],yhat[0])\n",
        "plt.title('Demanda eléctrica')\n",
        "plt.xlabel('mes de registro')\n",
        "plt.ylabel('Demanda máxima mensual (MW)')\n",
        "plt.plot(trama_predicha,color='green', linestyle='dashed')\n",
        "plt.plot(trama_real)"
      ],
      "execution_count": 85,
      "outputs": [
        {
          "output_type": "stream",
          "name": "stdout",
          "text": [
            "secuencia de entrada: [13.4  11.72 10.86]\n",
            "secuencia de salida (predicha): [11.176052 11.179105]\n",
            "secuencia de salida (real): [11.06 10.93]\n"
          ]
        },
        {
          "output_type": "execute_result",
          "data": {
            "text/plain": [
              "[<matplotlib.lines.Line2D at 0x7f43d93b8dd0>]"
            ]
          },
          "metadata": {},
          "execution_count": 85
        },
        {
          "output_type": "display_data",
          "data": {
            "image/png": "[encoded data removed]",
            "text/plain": [
              "<Figure size 432x288 with 1 Axes>"
            ]
          },
          "metadata": {
            "needs_background": "light"
          }
        }
      ]
    },
    {
      "cell_type": "markdown",
      "metadata": {
        "id": "6e2YbP4dfgfo"
      },
      "source": [
        "2.\tComentar la gráfica de datos de prueba reales vs datos predichos.\n",
        "\n",
        "Gráficamente se observa que dadas tres observaciones (0,1 y 2) se obtienen 2 salidas (3 y 4). La secuencia de entrada son 3 lecturas consecutivas de 3 meses, y la salida es el pronóstico a dos meses (mes por mes). La gráfica visualmente sigue una tendencia entre lo pronósticado y lo real. Al ejecutar repetidamente la celda, se usan otras secuencias de 3 meses de forma aleatoria observándose los pronósticos para cada una de ellas."
      ]
    },
    {
      "cell_type": "markdown",
      "metadata": {
        "id": "SJxWXrKxm9Zu"
      },
      "source": [
        "Guardamos todos los vectores de salida pronosticados para posteriormente compararlos con los vectores de salida reales."
      ]
    },
    {
      "cell_type": "code",
      "metadata": {
        "colab": {
          "base_uri": "https://localhost:8080/"
        },
        "id": "ym89OXP6p9rb",
        "outputId": "63d6ad3f-8d19-4ea9-9546-3cef72084414"
      },
      "source": [
        "import numpy as np\n",
        "\n",
        "l=X.reshape((X.shape[0],X.shape[1]))\n",
        "lista_tplus1=array([])\n",
        "lista_tplus2=array([])\n",
        "lista_tplusn=array([])\n",
        "for i in l:\n",
        "    i = i.reshape((1, n_steps_in, n_features))\n",
        "    yhat = model.predict(i, verbose=0)\n",
        "    lista_tplus1=np.append(lista_tplus1,yhat[0][0])\n",
        "    lista_tplus2=np.append(lista_tplus2,yhat[0][1])\n",
        "\n",
        "print('pronostico en t+1:',lista_tplus1)\n",
        "print('pronostico en t+2:',lista_tplus2)\n",
        "print('real:\\n',y)"
      ],
      "execution_count": 86,
      "outputs": [
        {
          "output_type": "stream",
          "name": "stdout",
          "text": [
            "pronostico en t+1: [ 8.22823334  8.45691299  7.8807888   7.63978577  8.24723148  8.57680798\n",
            "  9.19487     8.9519825   8.57789135 11.12481976 11.77048111  9.97656059\n",
            " 11.03772354 12.39241314 11.26044083 11.17605209 12.15464687 12.31731606\n",
            " 13.30120087 14.80017185 11.14589405 10.53503513 11.9536314  13.99978828\n",
            " 15.53334141 16.93662643 13.93936825 13.80352783 12.79654694 16.64304733\n",
            " 18.78722763 23.33239746 22.542593   20.99161339 21.39956665 22.02474785\n",
            " 23.21412468 20.35922241 17.27506065 14.27499199 15.49567795 20.02105331\n",
            " 24.49974823 21.08049774]\n",
            "pronostico en t+2: [ 9.15380478  8.59636402  8.57717133  7.90174627  7.73073101  9.63666344\n",
            "  9.52761841  6.12780523 12.12760735  8.54229546 11.55353642 11.79214859\n",
            " 10.39729881 11.63513374 12.70042038 11.1791048  12.7919178  13.81851196\n",
            " 14.81486702 11.91583824 11.1882391  10.50403976 12.48692417 16.01893425\n",
            " 16.61403465 16.09181976 12.62453461 14.06997585 15.40553188 19.76701546\n",
            " 21.18562508 20.67744255 20.15675163 20.06877136 21.38933372 21.76208496\n",
            " 22.05273628 18.43299103 14.01183319 15.20205784 19.19090462 23.48809052\n",
            " 21.82954788 18.64910698]\n",
            "real:\n",
            " [[ 7.93  7.94]\n",
            " [ 7.94  6.66]\n",
            " [ 6.66  6.93]\n",
            " [ 6.93  6.69]\n",
            " [ 6.69  8.04]\n",
            " [ 8.04 15.41]\n",
            " [15.41  9.23]\n",
            " [ 9.23  9.09]\n",
            " [ 9.09 11.7 ]\n",
            " [11.7   9.8 ]\n",
            " [ 9.8  10.11]\n",
            " [10.11 13.4 ]\n",
            " [13.4  11.72]\n",
            " [11.72 10.86]\n",
            " [10.86 11.06]\n",
            " [11.06 10.93]\n",
            " [10.93 11.62]\n",
            " [11.62 17.32]\n",
            " [17.32 14.56]\n",
            " [14.56 11.64]\n",
            " [11.64 11.64]\n",
            " [11.64 12.04]\n",
            " [12.04 14.28]\n",
            " [14.28 17.64]\n",
            " [17.64 16.88]\n",
            " [16.88 14.16]\n",
            " [14.16 13.4 ]\n",
            " [13.4  13.92]\n",
            " [13.92 15.64]\n",
            " [15.64 20.64]\n",
            " [20.64 23.04]\n",
            " [23.04 23.04]\n",
            " [23.04 21.48]\n",
            " [21.48 20.88]\n",
            " [20.88 21.36]\n",
            " [21.36 24.36]\n",
            " [24.36 20.04]\n",
            " [20.04 17.52]\n",
            " [17.52 14.88]\n",
            " [14.88 16.2 ]\n",
            " [16.2  20.8 ]\n",
            " [20.8  24.72]\n",
            " [24.72 20.3 ]\n",
            " [20.3  18.  ]]\n"
          ]
        }
      ]
    },
    {
      "cell_type": "markdown",
      "metadata": {
        "id": "LXCdYZAknMU3"
      },
      "source": [
        "Mostramos gráficamente el pronóstico en el paso t+1 (línea azul) vs el valor real en el paso t+1 (línea naranja)"
      ]
    },
    {
      "cell_type": "code",
      "metadata": {
        "colab": {
          "base_uri": "https://localhost:8080/",
          "height": 313
        },
        "id": "0s4WXM1V7RtV",
        "outputId": "fa73851e-f611-4af4-d33f-fa6ce52ec91f"
      },
      "source": [
        "plt.title('Pronóstico al paso t+1')\n",
        "plt.plot(lista_tplus1)\n",
        "plt.plot(y[:,0])\n",
        "plt.xlabel('mes de registro')\n",
        "plt.ylabel('Demanda (MW)')"
      ],
      "execution_count": 87,
      "outputs": [
        {
          "output_type": "execute_result",
          "data": {
            "text/plain": [
              "Text(0, 0.5, 'Demanda (MW)')"
            ]
          },
          "metadata": {},
          "execution_count": 87
        },
        {
          "output_type": "display_data",
          "data": {
            "image/png": "[encoded data removed]",
            "text/plain": [
              "<Figure size 432x288 with 1 Axes>"
            ]
          },
          "metadata": {
            "needs_background": "light"
          }
        }
      ]
    },
    {
      "cell_type": "markdown",
      "metadata": {
        "id": "FBGLhTJWnlk2"
      },
      "source": [
        "Y el pronóstico en el paso t+2 (línea azul) vs el valor real en el paso t+2 (línea naranja)"
      ]
    },
    {
      "cell_type": "code",
      "metadata": {
        "colab": {
          "base_uri": "https://localhost:8080/",
          "height": 313
        },
        "id": "CMy-A-YE7ltl",
        "outputId": "84c9ad5a-3687-4e0b-c767-f10b0aaec170"
      },
      "source": [
        "plt.title('Pronóstico al paso t+2')\n",
        "plt.plot(lista_tplus2)\n",
        "plt.plot(y[:,1])\n",
        "plt.xlabel('mes de registro')\n",
        "plt.ylabel('Demanda (MW)')"
      ],
      "execution_count": 88,
      "outputs": [
        {
          "output_type": "execute_result",
          "data": {
            "text/plain": [
              "Text(0, 0.5, 'Demanda (MW)')"
            ]
          },
          "metadata": {},
          "execution_count": 88
        },
        {
          "output_type": "display_data",
          "data": {
            "image/png": "[encoded data removed]",
            "text/plain": [
              "<Figure size 432x288 with 1 Axes>"
            ]
          },
          "metadata": {
            "needs_background": "light"
          }
        }
      ]
    },
    {
      "cell_type": "markdown",
      "metadata": {
        "id": "RQikril_m0Q-"
      },
      "source": [
        "Definimos una función simple para calcular el MAPE"
      ]
    },
    {
      "cell_type": "code",
      "metadata": {
        "id": "UQPn0gEf9Tol"
      },
      "source": [
        "def mean_absolute_percentage_error(y_true, y_pred): \n",
        "    y_true, y_pred = np.array(y_true), np.array(y_pred)\n",
        "    return np.mean(np.abs((y_true - y_pred) / y_true)) * 100"
      ],
      "execution_count": 89,
      "outputs": []
    },
    {
      "cell_type": "markdown",
      "metadata": {
        "id": "V3QMGUGNmWTW"
      },
      "source": [
        "Finalmente, evaluamos nuestro modelo calculando el error MAPE para cada paso del pronóstico *(t+1, t+2)* que no esta nada mal.\n",
        "\n"
      ]
    },
    {
      "cell_type": "code",
      "metadata": {
        "colab": {
          "base_uri": "https://localhost:8080/"
        },
        "id": "-xfoIt6cugl_",
        "outputId": "f89d0944-79a5-4619-eb6a-483a6626a0a5"
      },
      "source": [
        "mape1=mean_absolute_percentage_error(lista_tplus1, y[:,0])\n",
        "mape2=mean_absolute_percentage_error(lista_tplus2, y[:,1])\n",
        "print('MAPE tiempo t+1:',mape1)\n",
        "print('MAPE tiempo t+2:',mape2)\n",
        "\n",
        "#for x in range(n_steps_out):\n",
        "#  print(x)\n",
        "#lista_tplusN=array([])\n",
        "#lista_tplusN[0]="
      ],
      "execution_count": 90,
      "outputs": [
        {
          "output_type": "stream",
          "name": "stdout",
          "text": [
            "MAPE tiempo t+1: 7.629973363390246\n",
            "MAPE tiempo t+2: 10.610275657985838\n"
          ]
        }
      ]
    },
    {
      "cell_type": "markdown",
      "metadata": {
        "id": "zrjfGNb9i9wA"
      },
      "source": [
        "3.\tComentar gráficas y errores MAPE para cada uno de los 2 tiempos en adelanto.\n",
        "\n",
        "Para la gráfica al paso t+1 (mes 4) se observa visualmente que el pronóstico sigue los datos esperados (en este caso los datos de prueba es el total de datos disponibles) dando un error MAPE del 8%.\n",
        "Conforme se aumenta el horizonte de pronóstico el error MAPE aumenta gradualmente, lo cual apenas se puede apreciar en la gráfica al paso t+2 debido a la cercanía con el error en el paso t+1."
      ]
    },
    {
      "cell_type": "markdown",
      "metadata": {
        "id": "pdpLOA0Ko_U2"
      },
      "source": [
        "Nota: Dada la naturaleza estocástica del algoritmo o procedimiento de evaluación, los resultados o las diferencias en la precisión numérica pueden variar."
      ]
    }
  ]
}