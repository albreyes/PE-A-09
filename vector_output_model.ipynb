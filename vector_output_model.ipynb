{
  "nbformat": 4,
  "nbformat_minor": 0,
  "metadata": {
    "colab": {
      "name": "vector-output-model.ipynb",
      "provenance": [],
      "authorship_tag": "ABX9TyOGl8ftH4x0U1yB5908xmoZ",
      "include_colab_link": true
    },
    "kernelspec": {
      "name": "python3",
      "display_name": "Python 3"
    }
  },
  "cells": [
    {
      "cell_type": "markdown",
      "metadata": {
        "id": "view-in-github",
        "colab_type": "text"
      },
      "source": [
        "<a href=\"https://colab.research.google.com/github/albreyes/PE-A-09/blob/main/vector_output_model.ipynb\" target=\"_parent\"><img src=\"https://colab.research.google.com/assets/colab-badge.svg\" alt=\"Open In Colab\"/></a>"
      ]
    },
    {
      "cell_type": "markdown",
      "metadata": {
        "id": "DspPjpsEN1yt"
      },
      "source": [
        "\n",
        "#Pronóstico univariado a multiples pasos usando LSTM "
      ]
    },
    {
      "cell_type": "markdown",
      "metadata": {
        "id": "eikJcjYTOHLD"
      },
      "source": [
        "En este ejercicio aprenderemos a utilizar python para crear un modelo de pronóstico para una serie de datos de demanda eléctrica anual. La entrada será una serie de tres pasos. El pronóstico tendrá dos pasos en adelanto y los resultados se presentarán paso por paso. El paso de tiempo (timestep) tanto en la entrada como en la salida será de un año. Como técnica de aprendizaje utilizaremos una red LSTM apilada (stacked)\n",
        "\n"
      ]
    },
    {
      "cell_type": "markdown",
      "metadata": {
        "id": "1o0v267lRM8c"
      },
      "source": [
        "## Preparación de los datos"
      ]
    },
    {
      "cell_type": "markdown",
      "metadata": {
        "id": "ThBMkA0qRAz8"
      },
      "source": [
        "Antes de pasar a la construcción del modelo se deben preparar los datos. Al igual que con el pronóstico de un paso, una serie de tiempo utilizada para el pronóstico de series de varios pasos debe dividirse en muestras con componentes de entrada y salida.\n",
        "\n",
        "Tanto los componentes de entrada como los de salida estarán compuestos por múltiples pasos de tiempo y pueden tener o no el mismo número de pasos.\n",
        "\n",
        "Por ejemplo, dada la serie de tiempo univariada:"
      ]
    },
    {
      "cell_type": "markdown",
      "metadata": {
        "id": "Li6f9313TonV"
      },
      "source": [
        "\\\\begin{matrix}[10 & 20 & 30 & 40 & 50 & 60 & 70 & 80 & 90 ]\\\\\\end{matrix}"
      ]
    },
    {
      "cell_type": "markdown",
      "metadata": {
        "id": "vbHVQls2W4bt"
      },
      "source": [
        "Podríamos usar los últimos tres pasos de tiempo como entrada y pronosticar los dos próximos pasos de tiempo.\n",
        "\n",
        "La primera muestra se vería de la siguiente manera:\n",
        "\n",
        "Entrada:\n",
        "\n",
        "\\\\begin{matrix}[10 & 20 & 30 ]\\\\\\end{matrix}"
      ]
    },
    {
      "cell_type": "markdown",
      "metadata": {
        "id": "XFxPfLwLXRZ0"
      },
      "source": [
        "Salida:\n",
        "\n",
        "\n",
        "\\\\begin{matrix}[40 & 50 ]\\\\\\end{matrix}"
      ]
    },
    {
      "cell_type": "markdown",
      "metadata": {
        "id": "6lsNQHrKXyJ1"
      },
      "source": [
        "La función split_sequence() siguiente implementa este comportamiento dividiendo una serie de tiempo univariada en muestras con un número específico de pasos de tiempo de entrada y salida."
      ]
    },
    {
      "cell_type": "code",
      "metadata": {
        "id": "5mRFpARucg8o"
      },
      "source": [
        "# univariate multi-step vector-output stacked lstm example\n",
        "from numpy import array\n",
        "from keras.models import Sequential\n",
        "from keras.layers import LSTM\n",
        "from keras.layers import Dense\n",
        "\n",
        "# split a univariate sequence into samples\n",
        "def split_sequence(sequence, n_steps_in, n_steps_out):\n",
        "\tX, y = list(), list()\n",
        "\tfor i in range(len(sequence)):\n",
        "\t\t# find the end of this pattern\n",
        "\t\tend_ix = i + n_steps_in\n",
        "\t\tout_end_ix = end_ix + n_steps_out\n",
        "\t\t# check if we are beyond the sequence\n",
        "\t\tif out_end_ix > len(sequence):\n",
        "\t\t\tbreak\n",
        "\t\t# gather input and output parts of the pattern\n",
        "\t\tseq_x, seq_y = sequence[i:end_ix], sequence[end_ix:out_end_ix]\n",
        "\t\tX.append(seq_x)\n",
        "\t\ty.append(seq_y)\n",
        "\treturn array(X), array(y)"
      ],
      "execution_count": 74,
      "outputs": []
    },
    {
      "cell_type": "markdown",
      "metadata": {
        "id": "IQe6GMmKYnu1"
      },
      "source": [
        "Podemos demostrar esta función con el conjunto de datos de ejemplo."
      ]
    },
    {
      "cell_type": "code",
      "metadata": {
        "colab": {
          "base_uri": "https://localhost:8080/"
        },
        "id": "Vzng6yPGYviO",
        "outputId": "371bc70b-7809-4318-fef2-6443f722104f"
      },
      "source": [
        "# definimos secuancia de entrada \n",
        "raw_seq = [10, 20, 30, 40, 50, 60, 70, 80, 90]\n",
        "# escogemos un número de pasos de entrada y salida \n",
        "n_steps_in, n_steps_out = 3, 2\n",
        "# dividimos en ejemplos X , y\n",
        "X, y = split_sequence(raw_seq, n_steps_in, n_steps_out)\n",
        "# visualizamos los resultados\n",
        "for i in range(len(X)):\n",
        "\tprint(X[i], y[i])"
      ],
      "execution_count": 75,
      "outputs": [
        {
          "output_type": "stream",
          "text": [
            "[10 20 30] [40 50]\n",
            "[20 30 40] [50 60]\n",
            "[30 40 50] [60 70]\n",
            "[40 50 60] [70 80]\n",
            "[50 60 70] [80 90]\n"
          ],
          "name": "stdout"
        }
      ]
    },
    {
      "cell_type": "markdown",
      "metadata": {
        "id": "2u0jn2vUZ7Rd"
      },
      "source": [
        "La ejecución del ejemplo divide la serie univariada  en pasos de tiempo de entrada y salida e imprime los componentes de entrada y salida de cada uno."
      ]
    },
    {
      "cell_type": "markdown",
      "metadata": {
        "id": "v9TwVGLcc3u2"
      },
      "source": [
        "Ahora que sabemos cómo preparar datos para el pronóstico de varios pasos, veamos como construir una red LSTM tipo output vector model.\n",
        "\n",
        "Al igual que otros tipos de modelos de redes neuronales, el LSTM puede generar un vector directamente que se puede interpretar como un pronóstico de varios pasos.\n",
        "\n",
        "Al igual que con los LSTM para datos univariados de la sección anterior, primero se deben remodelar (reshape) las muestras preparadas. El LSTM espera que los datos tengan una estructura tridimensional de la forma: [***muestras, intervalos de tiempo, características***] y, como en este caso solo tenemos una característica,  la remodelación es muy sencilla. Veamos como cambia el formato para el conjunto de entradas:"
      ]
    },
    {
      "cell_type": "code",
      "metadata": {
        "colab": {
          "base_uri": "https://localhost:8080/"
        },
        "id": "mkydBOSMes0O",
        "outputId": "a3ce07f5-e66d-404f-edd0-a9a52f11f7bf"
      },
      "source": [
        "print('Antes',X)\n",
        "# remodela de [muestras, timesteps] a [muestras, timesteps, características]\n",
        "n_features = 1\n",
        "X = X.reshape((X.shape[0], X.shape[1], n_features))\n",
        "print('Después',X)"
      ],
      "execution_count": 76,
      "outputs": [
        {
          "output_type": "stream",
          "text": [
            "Antes [[10 20 30]\n",
            " [20 30 40]\n",
            " [30 40 50]\n",
            " [40 50 60]\n",
            " [50 60 70]]\n",
            "Después [[[10]\n",
            "  [20]\n",
            "  [30]]\n",
            "\n",
            " [[20]\n",
            "  [30]\n",
            "  [40]]\n",
            "\n",
            " [[30]\n",
            "  [40]\n",
            "  [50]]\n",
            "\n",
            " [[40]\n",
            "  [50]\n",
            "  [60]]\n",
            "\n",
            " [[50]\n",
            "  [60]\n",
            "  [70]]]\n"
          ],
          "name": "stdout"
        }
      ]
    },
    {
      "cell_type": "markdown",
      "metadata": {
        "id": "AjtjBZYEf-gF"
      },
      "source": [
        "Ahora si, usemos un conjunto de datos de [demanda eléctrica en Australia](https://www.kaggle.com/dcervan/demanda-electrica-australia) con datos promedio anual durante 16 años para realizar un pronóstico a un horizonte de dos años, en pasos de un año. Utilizaremos los mismo datos de la sección anterior pero en formato anual. Primero, carguemos los datos desde drive y visualicemos:"
      ]
    },
    {
      "cell_type": "code",
      "metadata": {
        "colab": {
          "base_uri": "https://localhost:8080/"
        },
        "id": "tnq3lMoMGVTQ",
        "outputId": "399916d3-b588-4f05-f9a5-5dc1fa59fbf1"
      },
      "source": [
        "# montamos la unidad de drive en colab\n",
        "from google.colab import drive\n",
        "drive.mount('/content/gdrive')"
      ],
      "execution_count": 77,
      "outputs": [
        {
          "output_type": "stream",
          "text": [
            "Drive already mounted at /content/gdrive; to attempt to forcibly remount, call drive.mount(\"/content/gdrive\", force_remount=True).\n"
          ],
          "name": "stdout"
        }
      ]
    },
    {
      "cell_type": "code",
      "metadata": {
        "colab": {
          "base_uri": "https://localhost:8080/"
        },
        "id": "lG2a1g57FAQX",
        "outputId": "a2c6890b-5b04-45c3-e20f-503e792cff0f"
      },
      "source": [
        "import csv\n",
        "import numpy as np\n",
        "\n",
        "data_path= 'gdrive/My Drive/INEEL/cemie redes/PE-A-09/datasets/Demanda_electricidad_anual-sinFecha.csv'\n",
        "#data_path= 'gdrive/My Drive/INEEL/cemie redes/PE-A-09/datasets/Demanda_electricidad_mensual-2-sinFecha.csv'\n",
        "\n",
        "with open(data_path, 'r') as f:\n",
        "    reader = csv.reader(f, delimiter=',')\n",
        "    headers = next(reader)\n",
        "    raw_seq = np.array(list(reader)).astype(float)\n",
        "    raw_seq = [row[0] for row in raw_seq]\n",
        "\n",
        "print(raw_seq)"
      ],
      "execution_count": 78,
      "outputs": [
        {
          "output_type": "stream",
          "text": [
            "[8161.0, 8600.0, 8813.0, 8996.0, 9660.0, 10149.0, 10583.0, 11143.0, 11694.0, 12422.0, 12940.0, 12975.0, 13134.0, 13514.0, 13548.0, 13958.0]\n"
          ],
          "name": "stdout"
        }
      ]
    },
    {
      "cell_type": "code",
      "metadata": {
        "colab": {
          "base_uri": "https://localhost:8080/",
          "height": 313
        },
        "id": "8x5oBx5EE3q_",
        "outputId": "209647d2-dfec-4e06-b478-d0aabbdcfb8d"
      },
      "source": [
        "import matplotlib.pyplot as plt\n",
        "\n",
        "plt.title('Demanda eléctrica ')\n",
        "plt.plot(raw_seq)\n",
        "plt.xlabel('año de registro')\n",
        "plt.ylabel('Demanda (GW-h)')"
      ],
      "execution_count": 79,
      "outputs": [
        {
          "output_type": "execute_result",
          "data": {
            "text/plain": [
              "Text(0, 0.5, 'Demanda (GW-h)')"
            ]
          },
          "metadata": {
            "tags": []
          },
          "execution_count": 79
        },
        {
          "output_type": "display_data",
          "data": {
            "image/png": "[encoded data removed]",
            "text/plain": [
              "<Figure size 432x288 with 1 Axes>"
            ]
          },
          "metadata": {
            "tags": [],
            "needs_background": "light"
          }
        }
      ]
    },
    {
      "cell_type": "markdown",
      "metadata": {
        "id": "72Qh9A89ikZ-"
      },
      "source": [
        "Con el número de pasos de entrada y salida especificados en las variables *n_steps_in* y *n_steps_out*, podemos definir un modelo de pronóstico de series de tiempo de varios pasos.\n",
        "\n",
        "Se puede utilizar cuaquier topolgía de modelo LSTM, como Vanilla, Stacked, Bidirectional, CNN-LSTM o ConvLSTM. A continuación se define un LSTM apilado (stacked) para el pronóstico a  varios pasos.\n",
        "\n",
        "En cada celda LSTM se define su tipo de activación, optimizador y función de pérdida (generalmente MSE) para cáculo del error."
      ]
    },
    {
      "cell_type": "code",
      "metadata": {
        "colab": {
          "base_uri": "https://localhost:8080/"
        },
        "id": "pZ3C7uuGEyQK",
        "outputId": "0bae988e-a4cd-4227-c5c4-abf0efdd94f2"
      },
      "source": [
        "\n",
        "# escoger el número de pasos de timpo (time steps)\n",
        "n_steps_in, n_steps_out = 3, 2\n",
        "# separar en muestras (preparación)\n",
        "X, y = split_sequence(raw_seq, n_steps_in, n_steps_out)\n",
        "# remodelación del formato [muestras, timesteps] a [muestras, timesteps, características]\n",
        "n_features = 1\n",
        "X = X.reshape((X.shape[0], X.shape[1], n_features))\n",
        "# definición del modelo\n",
        "model = Sequential()\n",
        "model.add(LSTM(100, activation='relu', return_sequences=True, input_shape=(n_steps_in, n_features)))\n",
        "model.add(LSTM(100, activation='relu'))\n",
        "model.add(Dense(n_steps_out))\n",
        "model.compile(optimizer='adam', loss='mse')\n",
        "# fit model\n",
        "model.fit(X, y, epochs=1050, verbose=0)\n"
      ],
      "execution_count": 80,
      "outputs": [
        {
          "output_type": "execute_result",
          "data": {
            "text/plain": [
              "<tensorflow.python.keras.callbacks.History at 0x7f5a1182a3d0>"
            ]
          },
          "metadata": {
            "tags": []
          },
          "execution_count": 80
        }
      ]
    },
    {
      "cell_type": "markdown",
      "metadata": {
        "id": "A5y4P3oAk-k-"
      },
      "source": [
        "Mostramos en forma de tabla y con una imágen información de la red LSTM construida."
      ]
    },
    {
      "cell_type": "code",
      "metadata": {
        "colab": {
          "base_uri": "https://localhost:8080/"
        },
        "id": "FUFFvUuPgBqz",
        "outputId": "cdc71b2f-8f26-4a75-f4f2-0795a719446d"
      },
      "source": [
        "model.summary()"
      ],
      "execution_count": 81,
      "outputs": [
        {
          "output_type": "stream",
          "text": [
            "Model: \"sequential_3\"\n",
            "_________________________________________________________________\n",
            "Layer (type)                 Output Shape              Param #   \n",
            "=================================================================\n",
            "lstm_6 (LSTM)                (None, 3, 100)            40800     \n",
            "_________________________________________________________________\n",
            "lstm_7 (LSTM)                (None, 100)               80400     \n",
            "_________________________________________________________________\n",
            "dense_3 (Dense)              (None, 2)                 202       \n",
            "=================================================================\n",
            "Total params: 121,402\n",
            "Trainable params: 121,402\n",
            "Non-trainable params: 0\n",
            "_________________________________________________________________\n"
          ],
          "name": "stdout"
        }
      ]
    },
    {
      "cell_type": "code",
      "metadata": {
        "colab": {
          "base_uri": "https://localhost:8080/",
          "height": 422
        },
        "id": "6ICi89cTgIvS",
        "outputId": "486ab99c-d468-4263-86b9-f5f5f3ea89ef"
      },
      "source": [
        "from keras.utils.vis_utils import plot_model\n",
        "plot_model(model, to_file='gdrive/My Drive/INEEL/Cubico/grupo_pronostico/datos/model_plot-output-vector.png', show_shapes=True, show_layer_names=True)"
      ],
      "execution_count": 82,
      "outputs": [
        {
          "output_type": "execute_result",
          "data": {
            "image/png": "[encoded data removed]",
            "text/plain": [
              "<IPython.core.display.Image object>"
            ]
          },
          "metadata": {
            "tags": []
          },
          "execution_count": 82
        }
      ]
    },
    {
      "cell_type": "markdown",
      "metadata": {
        "id": "q2fLI0A_lNR2"
      },
      "source": [
        "Y hacemos una demostracón de la predicción. Aquí seleccionamos aleatorimanente un vector de entrada, calculamos su pronóstico y lo comparamos con el vector de salida real (conocido). Para facilitar la lectura, graficamos la salida real contra la pronosticada (línea punteada verde)."
      ]
    },
    {
      "cell_type": "code",
      "metadata": {
        "colab": {
          "base_uri": "https://localhost:8080/",
          "height": 368
        },
        "id": "zgmSY5g0UBSx",
        "outputId": "cc61fac5-4135-4eee-b3b2-3618a35317de"
      },
      "source": [
        "# demonstrate prediction\n",
        "l=X.reshape((X.shape[0],X.shape[1]))\n",
        "i_sample = np.random.randint(len(y))   # Tomar un ejemplo aleatorio\n",
        "x_sample = l[i_sample]\n",
        "x_sample = x_sample.reshape((1, n_steps_in, n_features))\n",
        "yhat = model.predict(x_sample, verbose=0)\n",
        "print('secuencia de entrada:',l[i_sample])\n",
        "print('secuencia de salida (predicha):',yhat[0])\n",
        "print('secuencia de salida (real):',y[i_sample])\n",
        "\n",
        "trama_real=np.append(l[i_sample],y[i_sample])\n",
        "trama_predicha=np.append(l[i_sample],yhat[0])\n",
        "plt.title('Demanda eléctrica')\n",
        "plt.xlabel('año de registro')\n",
        "plt.ylabel('Demanda (GW-h)')\n",
        "plt.plot(trama_predicha,color='green', linestyle='dashed')\n",
        "plt.plot(trama_real)"
      ],
      "execution_count": 83,
      "outputs": [
        {
          "output_type": "stream",
          "text": [
            "secuencia de entrada: [8600. 8813. 8996.]\n",
            "secuencia de salida (predicha): [9483.084 9796.098]\n",
            "secuencia de salida (real): [ 9660. 10149.]\n"
          ],
          "name": "stdout"
        },
        {
          "output_type": "execute_result",
          "data": {
            "text/plain": [
              "[<matplotlib.lines.Line2D at 0x7f5a12bd8150>]"
            ]
          },
          "metadata": {
            "tags": []
          },
          "execution_count": 83
        },
        {
          "output_type": "display_data",
          "data": {
            "image/png": "[encoded data removed]",
            "text/plain": [
              "<Figure size 432x288 with 1 Axes>"
            ]
          },
          "metadata": {
            "tags": [],
            "needs_background": "light"
          }
        }
      ]
    },
    {
      "cell_type": "markdown",
      "metadata": {
        "id": "SJxWXrKxm9Zu"
      },
      "source": [
        "Guardamos todos los vectores de salida pronosticados para posteriormente compararlos con los vectores de salida reales."
      ]
    },
    {
      "cell_type": "code",
      "metadata": {
        "colab": {
          "base_uri": "https://localhost:8080/"
        },
        "id": "ym89OXP6p9rb",
        "outputId": "cad17d88-70ab-4d39-e073-dcb099d2588b"
      },
      "source": [
        "import numpy as np\n",
        "\n",
        "l=X.reshape((X.shape[0],X.shape[1]))\n",
        "lista_tplus1=array([])\n",
        "lista_tplus2=array([])\n",
        "lista_tplusn=array([])\n",
        "for i in l:\n",
        "    i = i.reshape((1, n_steps_in, n_features))\n",
        "    yhat = model.predict(i, verbose=0)\n",
        "    lista_tplus1=np.append(lista_tplus1,yhat[0][0])\n",
        "    lista_tplus2=np.append(lista_tplus2,yhat[0][1])\n",
        "\n",
        "print('pronostico en t+1:',lista_tplus1)\n",
        "print('pronostico en t+2:',lista_tplus2)"
      ],
      "execution_count": 84,
      "outputs": [
        {
          "output_type": "stream",
          "text": [
            "pronostico en t+1: [ 9108.98632812  9483.08398438  9768.96679688 10155.75097656\n",
            " 10793.77636719 11319.48535156 11846.234375   12476.63964844\n",
            " 13125.14746094 13757.59863281 14125.9375     14249.58398438]\n",
            "pronostico en t+2: [ 9408.61425781  9796.09765625 10087.17480469 10486.96386719\n",
            " 11147.22167969 11689.41503906 12233.37207031 12883.13671875\n",
            " 13554.58300781 14213.09667969 14593.99609375 14719.36035156]\n"
          ],
          "name": "stdout"
        }
      ]
    },
    {
      "cell_type": "markdown",
      "metadata": {
        "id": "LXCdYZAknMU3"
      },
      "source": [
        "Mostramos gráficamente el pronóstico en el paso t+1 (línea azul) vs el valor real en el paso t+1 (línea naranja)"
      ]
    },
    {
      "cell_type": "code",
      "metadata": {
        "colab": {
          "base_uri": "https://localhost:8080/",
          "height": 313
        },
        "id": "0s4WXM1V7RtV",
        "outputId": "e63189c1-4150-499b-b5bc-f72985734d5a"
      },
      "source": [
        "plt.title('Pronóstico al paso t+1')\n",
        "plt.plot(lista_tplus1)\n",
        "plt.plot(y[:,0])\n",
        "plt.xlabel('año de registro')\n",
        "plt.ylabel('Demanda (GW-h)')"
      ],
      "execution_count": 85,
      "outputs": [
        {
          "output_type": "execute_result",
          "data": {
            "text/plain": [
              "Text(0, 0.5, 'Demanda (GW-h)')"
            ]
          },
          "metadata": {
            "tags": []
          },
          "execution_count": 85
        },
        {
          "output_type": "display_data",
          "data": {
            "image/png": "[encoded data removed]",
            "text/plain": [
              "<Figure size 432x288 with 1 Axes>"
            ]
          },
          "metadata": {
            "tags": [],
            "needs_background": "light"
          }
        }
      ]
    },
    {
      "cell_type": "markdown",
      "metadata": {
        "id": "FBGLhTJWnlk2"
      },
      "source": [
        "Y el pronóstico en el paso t+2 (línea azul) vs el valor real en el paso t+2 (línea naranja)"
      ]
    },
    {
      "cell_type": "code",
      "metadata": {
        "colab": {
          "base_uri": "https://localhost:8080/",
          "height": 313
        },
        "id": "CMy-A-YE7ltl",
        "outputId": "296b6714-6326-4a3c-8770-0e6c6c787971"
      },
      "source": [
        "plt.title('Pronóstico al paso t+2')\n",
        "plt.plot(lista_tplus2)\n",
        "plt.plot(y[:,1])\n",
        "plt.xlabel('año de registro')\n",
        "plt.ylabel('Demanda (GW-h)')"
      ],
      "execution_count": 86,
      "outputs": [
        {
          "output_type": "execute_result",
          "data": {
            "text/plain": [
              "Text(0, 0.5, 'Demanda (GW-h)')"
            ]
          },
          "metadata": {
            "tags": []
          },
          "execution_count": 86
        },
        {
          "output_type": "display_data",
          "data": {
            "image/png": "[encoded data removed]",
            "text/plain": [
              "<Figure size 432x288 with 1 Axes>"
            ]
          },
          "metadata": {
            "tags": [],
            "needs_background": "light"
          }
        }
      ]
    },
    {
      "cell_type": "markdown",
      "metadata": {
        "id": "RQikril_m0Q-"
      },
      "source": [
        "Definimos una función simple para calcular el MAPE"
      ]
    },
    {
      "cell_type": "code",
      "metadata": {
        "id": "UQPn0gEf9Tol"
      },
      "source": [
        "def mean_absolute_percentage_error(y_true, y_pred): \n",
        "    y_true, y_pred = np.array(y_true), np.array(y_pred)\n",
        "    return np.mean(np.abs((y_true - y_pred) / y_true)) * 100"
      ],
      "execution_count": 87,
      "outputs": []
    },
    {
      "cell_type": "markdown",
      "metadata": {
        "id": "V3QMGUGNmWTW"
      },
      "source": [
        "Finalmente, evaluamos nuestro modelo calculando el error MAPE para cada paso del pronóstico *(t+1, t+2)* que no esta nada mal.\n",
        "\n"
      ]
    },
    {
      "cell_type": "code",
      "metadata": {
        "colab": {
          "base_uri": "https://localhost:8080/"
        },
        "id": "-xfoIt6cugl_",
        "outputId": "27f3b74b-a386-435d-c7a0-9cb7fe8277d5"
      },
      "source": [
        "mape1=mean_absolute_percentage_error(lista_tplus1, y[:,0])\n",
        "mape2=mean_absolute_percentage_error(lista_tplus2, y[:,1])\n",
        "print('MAPE tiempo t+1:',mape1)\n",
        "print('MAPE tiempo t+2:',mape2)\n",
        "\n",
        "#for x in range(n_steps_out):\n",
        "#  print(x)\n",
        "#lista_tplusN=array([])\n",
        "#lista_tplusN[0]="
      ],
      "execution_count": 88,
      "outputs": [
        {
          "output_type": "stream",
          "text": [
            "MAPE tiempo t+1: 3.4377985744200834\n",
            "MAPE tiempo t+2: 4.6223568395924675\n"
          ],
          "name": "stdout"
        }
      ]
    },
    {
      "cell_type": "markdown",
      "metadata": {
        "id": "pdpLOA0Ko_U2"
      },
      "source": [
        "Nota: Dada la naturaleza estocástica del algoritmo o procedimiento de evaluación, los resultados o las diferencias en la precisión numérica pueden variar. Considere ejecutar el ejemplo varias veces y compare el resultado promedio."
      ]
    }
  ]
}